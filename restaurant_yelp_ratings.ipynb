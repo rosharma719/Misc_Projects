{
 "cells": [
  {
   "cell_type": "code",
   "execution_count": 73,
   "metadata": {},
   "outputs": [],
   "source": [
    "#importing data\n",
    "import pandas as pd\n",
    "import numpy as np\n",
    "\n",
    "df = pd.read_csv('C:/Users/kragg/Downloads/yelp.csv')\n"
   ]
  },
  {
   "cell_type": "markdown",
   "metadata": {},
   "source": [
    "To find a niche for a Chinese family diner, we need to know the quality of each existing Chinese restaurant, by neighborhood. \n",
    "\n",
    "We can find the neighborhood with the lowest average ratings for Chinese restaurants. To do this, we'll find the average ratings per neighborhood. We can also find the average price; we can do this by averaging the number of $s per neighborhood. "
   ]
  },
  {
   "cell_type": "code",
   "execution_count": 74,
   "metadata": {},
   "outputs": [
    {
     "name": "stdout",
     "output_type": "stream",
     "text": [
      "Hell\\s Kitchen, \n",
      " \t Rating: 3.8636, \t 11 ratings\n",
      "Harlem, \n",
      " \t Rating: 3.6775, \t 138 ratings\n",
      "East Harlem, \n",
      " \t Rating: 3.9009, \t 459 ratings\n",
      "Midtown West, \n",
      " \t Rating: 4.0034, \t 729 ratings\n",
      "Tribeca, \n",
      " \t Rating: 3.6818, \t 44 ratings\n",
      "Midtown East, \n",
      " \t Rating: 3.8709, \t 213 ratings\n",
      "Gramercy, \n",
      " \t Rating: 3.7199, \t 366 ratings\n",
      "Greenwich Village, \n",
      " \t Rating: 4.0374, \t 575 ratings\n",
      "Garment District, \n",
      " \t Rating: 3.6092, \t 238 ratings\n",
      "Financial District, \n",
      " \t Rating: 3.6978, \t 139 ratings\n",
      "Chinatown, \n",
      " \t Rating: 4.0494, \t 172 ratings\n",
      "Upper East Side, \n",
      " \t Rating: 3.768, \t 194 ratings\n",
      "Little Italy, \n",
      " \t Rating: 3.6913, \t 230 ratings\n",
      "Morningside Heights, \n",
      " \t Rating: 2.8955, \t 134 ratings\n",
      "SoHo, \n",
      " \t Rating: 3.7961, \t 76 ratings\n",
      "Lower East Side, \n",
      " \t Rating: 3.75, \t 12 ratings\n",
      "Upper West Side, \n",
      " \t Rating: 3.5714, \t 91 ratings\n",
      "East Village, \n",
      " \t Rating: 3.9074, \t 27 ratings\n",
      "Chelsea, \n",
      " \t Rating: 3.8492, \t 63 ratings\n",
      "Murray Hill, \n",
      " \t Rating: 3.75, \t 18 ratings\n",
      "Stuyvesant Town, \n",
      " \t Rating: 4.0, \t 1 ratings\n"
     ]
    }
   ],
   "source": [
    "#listing neighborhoods\n",
    "neighborhoods = df['neighborhood'].unique()\n",
    "\n",
    "#average rating\n",
    "length = len(df)\n",
    "ratings = [0]*len(neighborhoods)\n",
    "ratingsCount = [0]*len(neighborhoods)\n",
    "prices = [0]*len(neighborhoods)\n",
    "pricesCount = [0]*len(neighborhoods)\n",
    "\n",
    "for x in range(0, len(df)): \n",
    "    for y in range (0, len(neighborhoods)): \n",
    "        if (df.loc[x][\"neighborhood\"]) == neighborhoods[y]: \n",
    "            ratings[y] += df.loc[x][\"rating\"]\n",
    "            ratingsCount[y] += 1\n",
    "            \n",
    "            prices[y] += len(str(df.loc[x][\"price\"]))\n",
    "            pricesCount[y]+=1\n",
    "for x in range(0, len(ratings)): \n",
    "    ratings[x] = round(ratings[x]/ratingsCount[x], 4)\n",
    "    prices[x] = round(prices[x]/pricesCount[x], 4)\n",
    "\n",
    "    #See the data\n",
    "    print(f\"{neighborhoods[x]}, \\n \\t Rating: {ratings[x]}, \\t {ratingsCount[x]} ratings\")\n",
    "\n"
   ]
  },
  {
   "cell_type": "markdown",
   "metadata": {},
   "source": [
    "We see that some neighborhoods have much higher concentrations of restaurants than others. Stuytown only has one restaurant at all, which definitely isn't the case in reality.\n",
    "\n",
    "We can also do this with just Chinese restaurants, using a similar script, and then compare the two results; if Chinese restaurants score lower than average in a certain neighborhood, it may be worth a closer look. "
   ]
  },
  {
   "cell_type": "code",
   "execution_count": 75,
   "metadata": {},
   "outputs": [
    {
     "name": "stdout",
     "output_type": "stream",
     "text": [
      "Hell\\s Kitchen\n",
      "No Chinese restaurants in  Hell\\s Kitchen\n",
      "Harlem\n",
      "Chinese restaurants underperform by 0.2108\n",
      "East Harlem\n",
      "Chinese restaurants underperform by 0.0486\n",
      "Midtown West\n",
      "Chinese restaurants underperform by 0.0916\n",
      "Tribeca\n",
      "Midtown East\n",
      "Chinese restaurants underperform by 0.2459\n",
      "Gramercy\n",
      "Chinese restaurants underperform by 0.1329\n",
      "Greenwich Village\n",
      "Garment District\n",
      "Financial District\n",
      "Chinese restaurants underperform by 0.0103\n",
      "Chinatown\n",
      "Chinese restaurants underperform by 0.105\n",
      "Upper East Side\n",
      "Chinese restaurants underperform by 0.268\n",
      "Little Italy\n",
      "Chinese restaurants underperform by 0.1175\n",
      "Morningside Heights\n",
      "Chinese restaurants underperform by 0.1122\n",
      "SoHo\n",
      "No Chinese restaurants in  SoHo\n",
      "Lower East Side\n",
      "Chinese restaurants underperform by 0.75\n",
      "Upper West Side\n",
      "Chinese restaurants underperform by 0.3214\n",
      "East Village\n",
      "Chinese restaurants underperform by 0.1574\n",
      "Chelsea\n",
      "Chinese restaurants underperform by 0.3492\n",
      "Murray Hill\n",
      "No Chinese restaurants in  Murray Hill\n",
      "Stuyvesant Town\n",
      "No Chinese restaurants in  Stuyvesant Town\n"
     ]
    }
   ],
   "source": [
    "chineseRatings = [0]*len(neighborhoods)\n",
    "chineseratingsCount = [0]*len(neighborhoods)\n",
    "margins = [0]*len(neighborhoods)\n",
    "\n",
    "for x in range(0, len(df)): \n",
    "    for y in range (0, len(neighborhoods)): \n",
    "        if (df.loc[x][\"neighborhood\"]) == neighborhoods[y]: \n",
    "            if (df.loc[x][\"CUISINE DESCRIPTION\"] == \"Chinese\"): \n",
    "                chineseRatings[y] += df.loc[x][\"rating\"]\n",
    "                chineseratingsCount[y] += 1\n",
    "for x in range(0, len(ratings)): \n",
    "    if (chineseratingsCount[x] == 0): \n",
    "        chineseRatings[x] = 0\n",
    "    else: \n",
    "        chineseRatings[x] = round(chineseRatings[x]/chineseratingsCount[x], 4)\n",
    "\n",
    "    #See the data\n",
    "    print(neighborhoods[x])\n",
    "    if (chineseRatings[x] < ratings[x]): \n",
    "        if (chineseRatings[x] == 0): \n",
    "            print(\"No Chinese restaurants in \", neighborhoods[x])\n",
    "        else: \n",
    "            print(\"Chinese restaurants underperform by\", round(ratings[x] - chineseRatings[x], 4))\n",
    "            margins[x] = round(ratings[x] - chineseRatings[x], 4)\n",
    "\n",
    "\n"
   ]
  },
  {
   "cell_type": "markdown",
   "metadata": {},
   "source": [
    "Let's take the neighborhood with the biggest gap in ratings, since that's likely where there's a greater niche for a Chinese restaurant. \n",
    "\n",
    "Then, let's check its average price; if it's above 2 ($$), that means it's probably too expensive for a family diner, and we can filter it out. \n",
    "\n",
    "From there, we'll sort the neighborhoods according to underperformance of Chinese restaurants and take the top one as our result. "
   ]
  },
  {
   "cell_type": "code",
   "execution_count": 76,
   "metadata": {},
   "outputs": [
    {
     "name": "stdout",
     "output_type": "stream",
     "text": [
      "Lower East Side, Price: 1.25, Margin: 0.75\n",
      "Harlem, Price: 1.6087, Margin: 0.2108\n",
      "East Village, Price: 1.8519, Margin: 0.1574\n",
      "Gramercy, Price: 1.9727, Margin: 0.1329\n",
      "Little Italy, Price: 1.9304, Margin: 0.1175\n",
      "Morningside Heights, Price: 1.5224, Margin: 0.1122\n",
      "Financial District, Price: 1.8561, Margin: 0.0103\n",
      "Garment District, Price: 1.9622, Margin: 0\n"
     ]
    }
   ],
   "source": [
    "unique_sorted_margins = sorted(set(margins), reverse=True)\n",
    "top_5_unique_margins = unique_sorted_margins[:5]\n",
    "\n",
    "# Iterate over unique_sorted_margins\n",
    "for margin in unique_sorted_margins:\n",
    "    # Find the indices in the original margins list where the margin equals the current unique_sorted_margin\n",
    "    indices = [i for i, m in enumerate(margins) if m == margin]\n",
    "    \n",
    "    # Iterate over the found indices\n",
    "    for index in indices:\n",
    "        # Check if the price corresponding to the current index is less than 2\n",
    "        if prices[index] < 2:\n",
    "            print(f\"{neighborhoods[index]}, Price: {prices[index]}, Margin: {margins[index]}\")\n",
    "\n"
   ]
  },
  {
   "cell_type": "markdown",
   "metadata": {},
   "source": [
    "It also makes sense to look for how many restaurants per neighborhood there are. Let's count: "
   ]
  },
  {
   "cell_type": "code",
   "execution_count": 77,
   "metadata": {},
   "outputs": [],
   "source": [
    "chineseRestaurantCount = [0]*len(neighborhoods)\n",
    "restaurantCount = [0]*len(neighborhoods)\n",
    "for x in range(0, len(df)): \n",
    "    for y in range(0, len(neighborhoods)): \n",
    "        if df.loc[x][\"neighborhood\"] == neighborhoods[y]:\n",
    "            restaurantCount[y]+=1\n",
    "            if df.loc[x][\"CUISINE DESCRIPTION\"] == \"Chinese\": \n",
    "                chineseRestaurantCount[y] +=1"
   ]
  },
  {
   "cell_type": "code",
   "execution_count": 78,
   "metadata": {},
   "outputs": [
    {
     "name": "stdout",
     "output_type": "stream",
     "text": [
      "Hell\\s Kitchen\n",
      "Chinese restaurants make up 0.0 percent of 11 neighborhood restaurants\n",
      "Harlem\n",
      "Chinese restaurants make up 10.8696 percent of 138 neighborhood restaurants\n",
      "East Harlem\n",
      "Chinese restaurants make up 9.5861 percent of 459 neighborhood restaurants\n",
      "Midtown West\n",
      "Chinese restaurants make up 4.6639 percent of 729 neighborhood restaurants\n",
      "Tribeca\n",
      "Chinese restaurants make up 2.2727 percent of 44 neighborhood restaurants\n",
      "Midtown East\n",
      "Chinese restaurants make up 3.7559 percent of 213 neighborhood restaurants\n",
      "Gramercy\n",
      "Chinese restaurants make up 6.2842 percent of 366 neighborhood restaurants\n",
      "Greenwich Village\n",
      "Chinese restaurants make up 7.1304 percent of 575 neighborhood restaurants\n",
      "Garment District\n",
      "Chinese restaurants make up 5.042 percent of 238 neighborhood restaurants\n",
      "Financial District\n",
      "Chinese restaurants make up 5.7554 percent of 139 neighborhood restaurants\n",
      "Chinatown\n",
      "Chinese restaurants make up 10.4651 percent of 172 neighborhood restaurants\n",
      "Upper East Side\n",
      "Chinese restaurants make up 3.0928 percent of 194 neighborhood restaurants\n",
      "Little Italy\n",
      "Chinese restaurants make up 26.5217 percent of 230 neighborhood restaurants\n",
      "Morningside Heights\n",
      "Chinese restaurants make up 22.3881 percent of 134 neighborhood restaurants\n",
      "SoHo\n",
      "Chinese restaurants make up 0.0 percent of 76 neighborhood restaurants\n",
      "Lower East Side\n",
      "Chinese restaurants make up 8.3333 percent of 12 neighborhood restaurants\n",
      "Upper West Side\n",
      "Chinese restaurants make up 2.1978 percent of 91 neighborhood restaurants\n",
      "East Village\n",
      "Chinese restaurants make up 7.4074 percent of 27 neighborhood restaurants\n",
      "Chelsea\n",
      "Chinese restaurants make up 1.5873 percent of 63 neighborhood restaurants\n",
      "Murray Hill\n",
      "Chinese restaurants make up 0.0 percent of 18 neighborhood restaurants\n",
      "Stuyvesant Town\n",
      "Chinese restaurants make up 0.0 percent of 1 neighborhood restaurants\n"
     ]
    }
   ],
   "source": [
    "#Percentages\n",
    "percentages = [0]*len(neighborhoods)\n",
    "for x in range(0, len(neighborhoods)):\n",
    "    print(neighborhoods[x])\n",
    "    percentages[x] = round(100*chineseRestaurantCount[x]/restaurantCount[x],4)\n",
    "    print(\"Chinese restaurants make up\", percentages[x], \"percent of\", restaurantCount[x],\"neighborhood restaurants\")\n"
   ]
  },
  {
   "cell_type": "markdown",
   "metadata": {},
   "source": [
    "We've used a lot of lists, so let's quickly turn that into a dataframe of everything we have so far"
   ]
  },
  {
   "cell_type": "code",
   "execution_count": 79,
   "metadata": {},
   "outputs": [
    {
     "name": "stdout",
     "output_type": "stream",
     "text": [
      "          Neighborhoods  Ratings  Chinese Restaurant Ratings  Rating Margins  \\\n",
      "0        Hell\\s Kitchen   3.8636                      0.0000          0.0000   \n",
      "1                Harlem   3.6775                      3.4667          0.2108   \n",
      "2           East Harlem   3.9009                      3.8523          0.0486   \n",
      "3          Midtown West   4.0034                      3.9118          0.0916   \n",
      "4               Tribeca   3.6818                      4.0000          0.0000   \n",
      "5          Midtown East   3.8709                      3.6250          0.2459   \n",
      "6              Gramercy   3.7199                      3.5870          0.1329   \n",
      "7     Greenwich Village   4.0374                      4.0976          0.0000   \n",
      "8      Garment District   3.6092                      3.8333          0.0000   \n",
      "9    Financial District   3.6978                      3.6875          0.0103   \n",
      "10            Chinatown   4.0494                      3.9444          0.1050   \n",
      "11      Upper East Side   3.7680                      3.5000          0.2680   \n",
      "12         Little Italy   3.6913                      3.5738          0.1175   \n",
      "13  Morningside Heights   2.8955                      2.7833          0.1122   \n",
      "14                 SoHo   3.7961                      0.0000          0.0000   \n",
      "15      Lower East Side   3.7500                      3.0000          0.7500   \n",
      "16      Upper West Side   3.5714                      3.2500          0.3214   \n",
      "17         East Village   3.9074                      3.7500          0.1574   \n",
      "18              Chelsea   3.8492                      3.5000          0.3492   \n",
      "19          Murray Hill   3.7500                      0.0000          0.0000   \n",
      "20      Stuyvesant Town   4.0000                      0.0000          0.0000   \n",
      "\n",
      "    Restaurant Count  Chinese Restaurant Count  Chinese Restaurant Percentage  \\\n",
      "0                 11                         0                         0.0000   \n",
      "1                138                        15                        10.8696   \n",
      "2                459                        44                         9.5861   \n",
      "3                729                        34                         4.6639   \n",
      "4                 44                         1                         2.2727   \n",
      "5                213                         8                         3.7559   \n",
      "6                366                        23                         6.2842   \n",
      "7                575                        41                         7.1304   \n",
      "8                238                        12                         5.0420   \n",
      "9                139                         8                         5.7554   \n",
      "10               172                        18                        10.4651   \n",
      "11               194                         6                         3.0928   \n",
      "12               230                        61                        26.5217   \n",
      "13               134                        30                        22.3881   \n",
      "14                76                         0                         0.0000   \n",
      "15                12                         1                         8.3333   \n",
      "16                91                         2                         2.1978   \n",
      "17                27                         2                         7.4074   \n",
      "18                63                         1                         1.5873   \n",
      "19                18                         0                         0.0000   \n",
      "20                 1                         0                         0.0000   \n",
      "\n",
      "     Price  \n",
      "0   2.0000  \n",
      "1   1.6087  \n",
      "2   2.0566  \n",
      "3   2.2867  \n",
      "4   2.0909  \n",
      "5   2.3662  \n",
      "6   1.9727  \n",
      "7   2.2487  \n",
      "8   1.9622  \n",
      "9   1.8561  \n",
      "10  2.2209  \n",
      "11  2.3299  \n",
      "12  1.9304  \n",
      "13  1.5224  \n",
      "14  2.1842  \n",
      "15  1.2500  \n",
      "16  2.2198  \n",
      "17  1.8519  \n",
      "18  2.2857  \n",
      "19  2.1667  \n",
      "20  3.0000  \n"
     ]
    }
   ],
   "source": [
    "\n",
    "data = {\n",
    "    'Neighborhoods': neighborhoods,\n",
    "    'Ratings': ratings,\n",
    "    'Chinese Restaurant Ratings': chineseRatings,\n",
    "    'Rating Margins': margins,\n",
    "    'Restaurant Count': restaurantCount,\n",
    "    'Chinese Restaurant Count': chineseRestaurantCount,\n",
    "    'Chinese Restaurant Percentage': percentages,\n",
    "    'Price': prices\n",
    "}\n",
    "\n",
    "neighborhoodDF = pd.DataFrame(data)\n",
    "print(neighborhoodDF)"
   ]
  },
  {
   "cell_type": "markdown",
   "metadata": {},
   "source": [
    "Price is the only column cut off in this image, but now it's all there. \n",
    "\n",
    "To finish this off, let's find the neighborhoods with the lowest Chinese restaurant percentage, the lowest price, and the highest rating margins. Then, let's pick the one with the best averages of these values relative to other neighborhoods. "
   ]
  },
  {
   "cell_type": "code",
   "execution_count": 80,
   "metadata": {},
   "outputs": [
    {
     "name": "stdout",
     "output_type": "stream",
     "text": [
      "Garment District: 6.6667\n",
      "Financial District: 7.0000\n",
      "Chelsea: 7.3333\n",
      "East Village: 8.0000\n",
      "Chinatown: 8.3333\n",
      "Lower East Side: 8.3333\n",
      "Little Italy: 8.3333\n",
      "Murray Hill: 8.3333\n",
      "Greenwich Village: 8.6667\n",
      "Midtown East: 10.6667\n",
      "Gramercy: 10.6667\n",
      "Hell\\s Kitchen: 11.0000\n",
      "Upper East Side: 11.3333\n",
      "Tribeca: 11.6667\n",
      "Morningside Heights: 11.6667\n",
      "Upper West Side: 12.3333\n",
      "East Harlem: 13.0000\n",
      "Harlem: 16.0000\n",
      "SoHo: 16.3333\n",
      "Midtown West: 17.0000\n",
      "Stuyvesant Town: 18.3333\n"
     ]
    }
   ],
   "source": [
    "#Creating the dataframe\n",
    "sorted_percentage = neighborhoodDF.sort_values(by='Chinese Restaurant Percentage', ascending=True)\n",
    "sorted_price = neighborhoodDF.sort_values(by='Price', ascending=True)\n",
    "sorted_margins = neighborhoodDF.sort_values(by='Rating Margins', ascending=False)\n",
    "\n",
    "sorted_values = pd.DataFrame({\n",
    "    'Percentage of Restaurants': sorted_percentage['Neighborhoods'].values,\n",
    "    'Price Rank': sorted_price['Neighborhoods'].values,\n",
    "    'Margin Rank': sorted_margins['Neighborhoods'].values\n",
    "})\n",
    "\n",
    "#Analyzing it\n",
    "rank_df = pd.DataFrame({\n",
    "    'Neighborhood': neighborhoodDF['Neighborhoods'],\n",
    "    'Percentage Rank': sorted_percentage.index + 1,  \n",
    "    'Price Rank': sorted_price.index + 1,\n",
    "    'Margin Rank': sorted_margins.index + 1,\n",
    "})\n",
    "\n",
    "rank_df.set_index('Neighborhood', inplace=True)\n",
    "rank_df['Average Rank'] = rank_df.mean(axis=1)\n",
    "sorted_rank_df = rank_df.sort_values(by='Average Rank')\n",
    "\n",
    "for index, row in sorted_rank_df.iterrows():\n",
    "    print(f\"{index}: {row['Average Rank']:.4f}\")\n"
   ]
  },
  {
   "cell_type": "markdown",
   "metadata": {},
   "source": [
    "We can see that the average ratings are fairly clustered towards the middle, but the Garment District wins out. "
   ]
  }
 ],
 "metadata": {
  "kernelspec": {
   "display_name": "Python 3",
   "language": "python",
   "name": "python3"
  },
  "language_info": {
   "codemirror_mode": {
    "name": "ipython",
    "version": 3
   },
   "file_extension": ".py",
   "mimetype": "text/x-python",
   "name": "python",
   "nbconvert_exporter": "python",
   "pygments_lexer": "ipython3",
   "version": "3.10.2"
  },
  "orig_nbformat": 4
 },
 "nbformat": 4,
 "nbformat_minor": 2
}
