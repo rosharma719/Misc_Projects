{
 "cells": [
  {
   "cell_type": "code",
   "execution_count": 11,
   "metadata": {},
   "outputs": [],
   "source": [
    "#importing data\n",
    "import pandas as pd\n",
    "import numpy as np\n",
    "\n",
    "df = pd.read_csv('C:/Users/kragg/Downloads/yelp.csv')\n"
   ]
  },
  {
   "cell_type": "markdown",
   "metadata": {},
   "source": [
    "To find a niche for a Chinese family diner, we need to know the quality of each existing Chinese restaurant, by neighborhood. \n",
    "\n",
    "We can find the neighborhood with the lowest average ratings for Chinese restaurants. To do this, we'll find the average ratings per neighborhood. We can also find the average price; we can do this by averaging the number of $s per neighborhood. "
   ]
  },
  {
   "cell_type": "code",
   "execution_count": 12,
   "metadata": {},
   "outputs": [
    {
     "name": "stdout",
     "output_type": "stream",
     "text": [
      "Hell\\s Kitchen, \n",
      " \t Rating: 3.8636, \t 11 ratings\n",
      "Harlem, \n",
      " \t Rating: 3.6775, \t 138 ratings\n",
      "East Harlem, \n",
      " \t Rating: 3.9009, \t 459 ratings\n",
      "Midtown West, \n",
      " \t Rating: 4.0034, \t 729 ratings\n",
      "Tribeca, \n",
      " \t Rating: 3.6818, \t 44 ratings\n",
      "Midtown East, \n",
      " \t Rating: 3.8709, \t 213 ratings\n",
      "Gramercy, \n",
      " \t Rating: 3.7199, \t 366 ratings\n",
      "Greenwich Village, \n",
      " \t Rating: 4.0374, \t 575 ratings\n",
      "Garment District, \n",
      " \t Rating: 3.6092, \t 238 ratings\n",
      "Financial District, \n",
      " \t Rating: 3.6978, \t 139 ratings\n",
      "Chinatown, \n",
      " \t Rating: 4.0494, \t 172 ratings\n",
      "Upper East Side, \n",
      " \t Rating: 3.768, \t 194 ratings\n",
      "Little Italy, \n",
      " \t Rating: 3.6913, \t 230 ratings\n",
      "Morningside Heights, \n",
      " \t Rating: 2.8955, \t 134 ratings\n",
      "SoHo, \n",
      " \t Rating: 3.7961, \t 76 ratings\n",
      "Lower East Side, \n",
      " \t Rating: 3.75, \t 12 ratings\n",
      "Upper West Side, \n",
      " \t Rating: 3.5714, \t 91 ratings\n",
      "East Village, \n",
      " \t Rating: 3.9074, \t 27 ratings\n",
      "Chelsea, \n",
      " \t Rating: 3.8492, \t 63 ratings\n",
      "Murray Hill, \n",
      " \t Rating: 3.75, \t 18 ratings\n",
      "Stuyvesant Town, \n",
      " \t Rating: 4.0, \t 1 ratings\n"
     ]
    }
   ],
   "source": [
    "#listing neighborhoods\n",
    "neighborhoods = df['neighborhood'].unique()\n",
    "\n",
    "#average rating\n",
    "length = len(df)\n",
    "ratings = [0]*len(neighborhoods)\n",
    "ratingsCount = [0]*len(neighborhoods)\n",
    "prices = [0]*len(neighborhoods)\n",
    "pricesCount = [0]*len(neighborhoods)\n",
    "\n",
    "for x in range(0, len(df)): \n",
    "    for y in range (0, len(neighborhoods)): \n",
    "        if (df.loc[x][\"neighborhood\"]) == neighborhoods[y]: \n",
    "            ratings[y] += df.loc[x][\"rating\"]\n",
    "            ratingsCount[y] += 1\n",
    "            \n",
    "            prices[y] += len(str(df.loc[x][\"price\"]))\n",
    "            pricesCount[y]+=1\n",
    "for x in range(0, len(ratings)): \n",
    "    ratings[x] = round(ratings[x]/ratingsCount[x], 4)\n",
    "    prices[x] = round(prices[x]/pricesCount[x], 4)\n",
    "\n",
    "    #See the data\n",
    "    print(f\"{neighborhoods[x]}, \\n \\t Rating: {ratings[x]}, \\t {ratingsCount[x]} ratings\")\n",
    "\n"
   ]
  },
  {
   "cell_type": "markdown",
   "metadata": {},
   "source": [
    "We see that some neighborhoods have much higher concentrations of restaurants than others. Stuytown only has one restaurant at all, which definitely isn't the case in reality.\n",
    "\n",
    "We can also do this with just Chinese restaurants, using a similar script, and then compare the two results; if Chinese restaurants score lower than average in a certain neighborhood, it may be worth a closer look. "
   ]
  },
  {
   "cell_type": "code",
   "execution_count": 13,
   "metadata": {},
   "outputs": [
    {
     "name": "stdout",
     "output_type": "stream",
     "text": [
      "Hell\\s Kitchen\n",
      "No Chinese restaurants in  Hell\\s Kitchen\n",
      "Harlem\n",
      "Chinese restaurants underperform by 0.2108\n",
      "East Harlem\n",
      "Chinese restaurants underperform by 0.0486\n",
      "Midtown West\n",
      "Chinese restaurants underperform by 0.0916\n",
      "Tribeca\n",
      "Midtown East\n",
      "Chinese restaurants underperform by 0.2459\n",
      "Gramercy\n",
      "Chinese restaurants underperform by 0.1329\n",
      "Greenwich Village\n",
      "Garment District\n",
      "Financial District\n",
      "Chinese restaurants underperform by 0.0103\n",
      "Chinatown\n",
      "Chinese restaurants underperform by 0.105\n",
      "Upper East Side\n",
      "Chinese restaurants underperform by 0.268\n",
      "Little Italy\n",
      "Chinese restaurants underperform by 0.1175\n",
      "Morningside Heights\n",
      "Chinese restaurants underperform by 0.1122\n",
      "SoHo\n",
      "No Chinese restaurants in  SoHo\n",
      "Lower East Side\n",
      "Chinese restaurants underperform by 0.75\n",
      "Upper West Side\n",
      "Chinese restaurants underperform by 0.3214\n",
      "East Village\n",
      "Chinese restaurants underperform by 0.1574\n",
      "Chelsea\n",
      "Chinese restaurants underperform by 0.3492\n",
      "Murray Hill\n",
      "No Chinese restaurants in  Murray Hill\n",
      "Stuyvesant Town\n",
      "No Chinese restaurants in  Stuyvesant Town\n"
     ]
    }
   ],
   "source": [
    "chineseRatings = [0]*len(neighborhoods)\n",
    "chineseratingsCount = [0]*len(neighborhoods)\n",
    "margins = [0]*len(neighborhoods)\n",
    "\n",
    "for x in range(0, len(df)): \n",
    "    for y in range (0, len(neighborhoods)): \n",
    "        if (df.loc[x][\"neighborhood\"]) == neighborhoods[y]: \n",
    "            if (df.loc[x][\"CUISINE DESCRIPTION\"] == \"Chinese\"): \n",
    "                chineseRatings[y] += df.loc[x][\"rating\"]\n",
    "                chineseratingsCount[y] += 1\n",
    "for x in range(0, len(ratings)): \n",
    "    if (chineseratingsCount[x] == 0): \n",
    "        chineseRatings[x] = 0\n",
    "    else: \n",
    "        chineseRatings[x] = round(chineseRatings[x]/chineseratingsCount[x], 4)\n",
    "\n",
    "    #See the data\n",
    "    print(neighborhoods[x])\n",
    "    if (chineseRatings[x] < ratings[x]): \n",
    "        if (chineseRatings[x] == 0): \n",
    "            print(\"No Chinese restaurants in \", neighborhoods[x])\n",
    "        else: \n",
    "            print(\"Chinese restaurants underperform by\", round(ratings[x] - chineseRatings[x], 4))\n",
    "            margins[x] = round(ratings[x] - chineseRatings[x], 4)\n",
    "\n",
    "\n"
   ]
  },
  {
   "cell_type": "markdown",
   "metadata": {},
   "source": [
    "Let's take the neighborhood with the biggest gap in ratings, since that's likely where there's a greater niche for a Chinese restaurant. \n",
    "\n",
    "Then, let's check its average price; if it's above 2 ($$), that means it's probably too expensive for a family diner, and we can filter it out. \n",
    "\n",
    "From there, we'll sort the neighborhoods according to underperformance of Chinese restaurants and take the top one as our result. "
   ]
  },
  {
   "cell_type": "code",
   "execution_count": 14,
   "metadata": {},
   "outputs": [
    {
     "name": "stdout",
     "output_type": "stream",
     "text": [
      "Lower East Side, Price: 1.25, Margin: 0.75\n",
      "Harlem, Price: 1.6087, Margin: 0.2108\n",
      "East Village, Price: 1.8519, Margin: 0.1574\n",
      "Gramercy, Price: 1.9727, Margin: 0.1329\n",
      "Little Italy, Price: 1.9304, Margin: 0.1175\n",
      "Morningside Heights, Price: 1.5224, Margin: 0.1122\n",
      "Financial District, Price: 1.8561, Margin: 0.0103\n",
      "Garment District, Price: 1.9622, Margin: 0\n"
     ]
    }
   ],
   "source": [
    "unique_sorted_margins = sorted(set(margins), reverse=True)\n",
    "top_5_unique_margins = unique_sorted_margins[:5]\n",
    "\n",
    "# Iterate over unique_sorted_margins\n",
    "for margin in unique_sorted_margins:\n",
    "    # Find the indices in the original margins list where the margin equals the current unique_sorted_margin\n",
    "    indices = [i for i, m in enumerate(margins) if m == margin]\n",
    "    \n",
    "    # Iterate over the found indices\n",
    "    for index in indices:\n",
    "        # Check if the price corresponding to the current index is less than 2\n",
    "        if prices[index] < 2:\n",
    "            print(f\"{neighborhoods[index]}, Price: {prices[index]}, Margin: {margins[index]}\")\n",
    "\n"
   ]
  },
  {
   "cell_type": "markdown",
   "metadata": {},
   "source": [
    "We've selected the Lower East Side. Chinese restaurants underperform dramatically there, and the prices are very low, making this the optimal spot for a good-quality and inexpensive family diner. \n"
   ]
  }
 ],
 "metadata": {
  "kernelspec": {
   "display_name": "Python 3",
   "language": "python",
   "name": "python3"
  },
  "language_info": {
   "codemirror_mode": {
    "name": "ipython",
    "version": 3
   },
   "file_extension": ".py",
   "mimetype": "text/x-python",
   "name": "python",
   "nbconvert_exporter": "python",
   "pygments_lexer": "ipython3",
   "version": "3.10.2"
  },
  "orig_nbformat": 4
 },
 "nbformat": 4,
 "nbformat_minor": 2
}
